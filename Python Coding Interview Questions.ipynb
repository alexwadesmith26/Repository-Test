{
 "cells": [
  {
   "cell_type": "markdown",
   "id": "0bcdd6c8",
   "metadata": {},
   "source": [
    "## Fizzbuzz"
   ]
  },
  {
   "cell_type": "code",
   "execution_count": 18,
   "id": "fe03f1e6",
   "metadata": {},
   "outputs": [
    {
     "name": "stdout",
     "output_type": "stream",
     "text": [
      "1\n",
      "2\n",
      "3 Fizz\n",
      "4\n",
      "5 Buzz\n",
      "6 Fizz\n",
      "7\n",
      "8\n",
      "9 Fizz\n",
      "10 Buzz\n",
      "11\n",
      "12 Fizz\n",
      "13\n",
      "14\n",
      "15 Fizzbuzz\n",
      "16\n",
      "17\n",
      "18 Fizz\n",
      "19\n",
      "20 Buzz\n",
      "21 Fizz\n",
      "22\n",
      "23\n",
      "24 Fizz\n",
      "25 Buzz\n",
      "26\n",
      "27 Fizz\n",
      "28\n",
      "29\n",
      "30 Fizzbuzz\n",
      "31\n",
      "32\n",
      "33 Fizz\n",
      "34\n",
      "35 Buzz\n",
      "36 Fizz\n",
      "37\n",
      "38\n",
      "39 Fizz\n",
      "40 Buzz\n",
      "41\n",
      "42 Fizz\n",
      "43\n",
      "44\n",
      "45 Fizzbuzz\n",
      "46\n",
      "47\n",
      "48 Fizz\n",
      "49\n",
      "50 Buzz\n",
      "51 Fizz\n",
      "52\n",
      "53\n",
      "54 Fizz\n",
      "55 Buzz\n",
      "56\n",
      "57 Fizz\n",
      "58\n",
      "59\n",
      "60 Fizzbuzz\n",
      "61\n",
      "62\n",
      "63 Fizz\n",
      "64\n",
      "65 Buzz\n",
      "66 Fizz\n",
      "67\n",
      "68\n",
      "69 Fizz\n",
      "70 Buzz\n",
      "71\n",
      "72 Fizz\n",
      "73\n",
      "74\n",
      "75 Fizzbuzz\n",
      "76\n",
      "77\n",
      "78 Fizz\n",
      "79\n",
      "80 Buzz\n",
      "81 Fizz\n",
      "82\n",
      "83\n",
      "84 Fizz\n",
      "85 Buzz\n",
      "86\n",
      "87 Fizz\n",
      "88\n",
      "89\n",
      "90 Fizzbuzz\n",
      "91\n",
      "92\n",
      "93 Fizz\n",
      "94\n",
      "95 Buzz\n",
      "96 Fizz\n",
      "97\n",
      "98\n",
      "99 Fizz\n",
      "100 Buzz\n"
     ]
    }
   ],
   "source": [
    "for i in range(100):\n",
    "    if ((i+1) % 3 == 0) & ((i+1) % 5 != 0):\n",
    "        print(str(i+1) + \" Fizz\")\n",
    "    elif ((i+1) % 3 != 0) & ((i+1) % 5 == 0):\n",
    "        print(str(i+1) + \" Buzz\")\n",
    "    elif ((i+1) % 3 == 0) & ((i+1) % 5 == 0):\n",
    "        print(str(i+1) + \" Fizzbuzz\")\n",
    "    else:\n",
    "        print(str(i+1))"
   ]
  },
  {
   "cell_type": "markdown",
   "id": "5efd72e9",
   "metadata": {},
   "source": [
    "## Bubble Sort"
   ]
  },
  {
   "cell_type": "code",
   "execution_count": 45,
   "id": "d3e777a9",
   "metadata": {},
   "outputs": [
    {
     "name": "stdout",
     "output_type": "stream",
     "text": [
      "[-1, 0.6, 1, 4, 45, 200]\n"
     ]
    }
   ],
   "source": [
    "def bubsort(x):\n",
    "    n = len(x)\n",
    "    swapped = False\n",
    "    for i in range(n-1):\n",
    "        for j in range(0,n-i-1):\n",
    "            if x[j] > x[j+1]:\n",
    "                swapped = True\n",
    "                x[j], x[j+1] = x[j+1], x[j]\n",
    "    if not swapped:\n",
    "        return\n",
    "\n",
    "\n",
    "nums = [1,45,-1,0.6,4,200]\n",
    "bubsort(nums)\n",
    "\n",
    "print(nums)"
   ]
  },
  {
   "cell_type": "code",
   "execution_count": 43,
   "id": "243b87f7",
   "metadata": {},
   "outputs": [
    {
     "name": "stdout",
     "output_type": "stream",
     "text": [
      "0\n",
      "1\n",
      "2\n",
      "3\n",
      "4\n",
      "0\n",
      "1\n",
      "2\n",
      "3\n",
      "0\n",
      "1\n",
      "2\n",
      "0\n",
      "1\n",
      "0\n"
     ]
    }
   ],
   "source": [
    "n = len(nums)\n",
    "\n",
    "for i in range(n-1):\n",
    "        for j in range(0,n-i-1):\n",
    "            print(j)"
   ]
  },
  {
   "cell_type": "markdown",
   "id": "484d3718",
   "metadata": {},
   "source": [
    "## Maximum in a row"
   ]
  },
  {
   "cell_type": "code",
   "execution_count": 144,
   "id": "5c80ff47",
   "metadata": {},
   "outputs": [],
   "source": [
    "def max_cons_in_list(arr):\n",
    "    count = 1\n",
    "    tracking = {}\n",
    "    for i in range(len(arr)):\n",
    "        if i == len(arr) - 1:\n",
    "            tracking[str(arr[i])] = count\n",
    "        elif arr[i] == arr[i+1]:\n",
    "            count += 1\n",
    "        else:\n",
    "            tracking[str(arr[i])] = count\n",
    "            count = 1\n",
    "    max_cons = max(tracking, key = tracking.get), int(max(tracking)) + 1\n",
    "    return max_cons"
   ]
  },
  {
   "cell_type": "code",
   "execution_count": 145,
   "id": "3e18ce6c",
   "metadata": {},
   "outputs": [
    {
     "data": {
      "text/plain": [
       "('0.5', 10)"
      ]
     },
     "execution_count": 145,
     "metadata": {},
     "output_type": "execute_result"
    }
   ],
   "source": [
    "values = [1,1,3,3,4,5,6,6,6,7,8,1,1,1,1,1,3,3,3,3,3,3,3,3,4,4,4,9,0.5,0.5,0.5,0.5,0.5,0.5,0.5,0.5,0.5,0.5]\n",
    "max_cons_in_list(values)"
   ]
  },
  {
   "cell_type": "markdown",
   "id": "4de5a1a8",
   "metadata": {},
   "source": [
    "## "
   ]
  }
 ],
 "metadata": {
  "kernelspec": {
   "display_name": "Python 3 (ipykernel)",
   "language": "python",
   "name": "python3"
  },
  "language_info": {
   "codemirror_mode": {
    "name": "ipython",
    "version": 3
   },
   "file_extension": ".py",
   "mimetype": "text/x-python",
   "name": "python",
   "nbconvert_exporter": "python",
   "pygments_lexer": "ipython3",
   "version": "3.10.5"
  }
 },
 "nbformat": 4,
 "nbformat_minor": 5
}
